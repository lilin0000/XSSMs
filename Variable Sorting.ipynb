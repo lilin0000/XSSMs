{
 "cells": [
  {
   "cell_type": "markdown",
   "id": "3fbc6af9",
   "metadata": {},
   "source": [
    "# 决策树"
   ]
  },
  {
   "cell_type": "code",
   "execution_count": null,
   "id": "a8b7cbaa",
   "metadata": {
    "scrolled": false
   },
   "outputs": [],
   "source": [
    "import pandas as pd\n",
    "from sklearn.tree import DecisionTreeRegressor\n",
    "import numpy as np\n",
    "from sklearn.preprocessing import MinMaxScaler\n",
    "\n",
    "# 设置随机种子\n",
    "np.random.seed(123)\n",
    "\n",
    "# 加载数据\n",
    "#data_path = r\"D:\\Users\\lily\\Desktop\\merged_c.csv\"\n",
    "data_path = r\"D:\\Users\\lily\\Desktop\\Sample data\\Variable Sorting\\merged_9k.csv\"\n",
    "data = pd.read_csv(data_path)\n",
    "\n",
    "# 删除前两列\n",
    "data = data.iloc[:, 2:]\n",
    "\n",
    "# 提取因变量（删除前两列后的第一列）\n",
    "y = data.iloc[:, 0]\n",
    "\n",
    "# 提取自变量（删除前两列后的剩余列）\n",
    "X = data.iloc[:, 1:]\n",
    "\n",
    "# 使用决策树进行变量筛选并计算重要性得分\n",
    "# 对自变量进行最大值标准化处理\n",
    "model = DecisionTreeRegressor()\n",
    "model.fit(X , y)\n",
    "\n",
    "# 获取特征重要性\n",
    "feature_importances = model.feature_importances_\n",
    "\n",
    "# 输出每个自变量的重要性得分和排名\n",
    "importance_df = pd.DataFrame({'Feature': X.columns, 'Importance': feature_importances})\n",
    "importance_df = importance_df.sort_values(by='Importance', ascending=False).reset_index(drop=True)\n",
    "importance_df['Rank'] = importance_df.index + 1\n",
    "print(importance_df)\n"
   ]
  },
  {
   "cell_type": "markdown",
   "id": "bcf191f9",
   "metadata": {},
   "source": [
    "# 梯度提升"
   ]
  },
  {
   "cell_type": "code",
   "execution_count": null,
   "id": "b6f0eff7",
   "metadata": {
    "scrolled": true
   },
   "outputs": [],
   "source": [
    "import pandas as pd\n",
    "from sklearn.ensemble import GradientBoostingRegressor\n",
    "import numpy as np\n",
    "\n",
    "# 设置随机种子\n",
    "np.random.seed(123)\n",
    "\n",
    "# 读取CSV文件\n",
    "#data = pd.read_csv(r\"D:\\Users\\lily\\Desktop\\merged_c.csv\")\n",
    "data = pd.read_csv(r\"D:\\Users\\lily\\Desktop\\Sample data\\Variable Sorting\\merged_9k.csv\")\n",
    "# 删除前两列\n",
    "data = data.iloc[:, 2:]\n",
    "\n",
    "# 分离因变量和自变量\n",
    "y = data.iloc[:, 0]    # 因变量为删除前两列后的第一列\n",
    "X = data.iloc[:, 1:]   # 自变量为删除前两列后的其他列\n",
    "\n",
    "# 创建梯度提升回归模型\n",
    "gb_model = GradientBoostingRegressor(random_state=123)\n",
    "\n",
    "# 拟合模型\n",
    "gb_model.fit(X, y)\n",
    "\n",
    "# 获取变量重要性得分\n",
    "importance = gb_model.feature_importances_\n",
    "\n",
    "# 将变量重要性得分与变量名称对应起来\n",
    "importance_df = pd.DataFrame({'变量名称': X.columns, '重要性得分': importance})\n",
    "\n",
    "# 对变量重要性得分进行排序\n",
    "importance_df = importance_df.sort_values(by='重要性得分', ascending=False)\n",
    "\n",
    "# 重置索引\n",
    "importance_df = importance_df.reset_index(drop=True)\n",
    "\n",
    "# 打印变量的重要性得分及排名\n",
    "print(\"变量名称    重要性得分    排名\")\n",
    "for i, row in importance_df.iterrows():\n",
    "    print(row['变量名称'], \"    \", row['重要性得分'], \"    \", i+1)\n"
   ]
  },
  {
   "cell_type": "markdown",
   "id": "29a65be7",
   "metadata": {},
   "source": [
    "# 随机森林"
   ]
  },
  {
   "cell_type": "code",
   "execution_count": null,
   "id": "48375a1d",
   "metadata": {
    "scrolled": false
   },
   "outputs": [],
   "source": [
    "import pandas as pd\n",
    "from sklearn.ensemble import RandomForestRegressor\n",
    "import numpy as np\n",
    "\n",
    "# 设置随机种子\n",
    "np.random.seed(12)\n",
    "\n",
    "# 读取CSV文件\n",
    "#data = pd.read_csv(r\"D:\\Users\\lily\\Desktop\\merged_c.csv\")\n",
    "data = pd.read_csv(r\"D:\\Users\\lily\\Desktop\\Sample data\\Variable Sorting\\merged_9k.csv\")\n",
    "# 删除前两列\n",
    "#data = data.iloc[:, 2:]\n",
    "\n",
    "# 分离因变量和自变量\n",
    "y = data.iloc[:, 0]    # 因变量为删除前两列后的第一列\n",
    "X = data.iloc[:, 1:]   # 自变量为删除前两列后的其他列\n",
    "\n",
    "# 创建随机森林回归模型\n",
    "rf_model = RandomForestRegressor(random_state=123)\n",
    "\n",
    "# 拟合模型\n",
    "rf_model.fit(X, y)\n",
    "\n",
    "# 获取变量重要性得分\n",
    "importance = rf_model.feature_importances_\n",
    "\n",
    "# 将变量重要性得分与变量名称对应起来\n",
    "importance_df = pd.DataFrame({'变量名称': X.columns, '重要性得分': importance})\n",
    "\n",
    "# 对变量重要性得分进行排序\n",
    "importance_df = importance_df.sort_values(by='重要性得分', ascending=False)\n",
    "\n",
    "# 重置索引\n",
    "importance_df = importance_df.reset_index(drop=True)\n",
    "\n",
    "# 打印变量的重要性得分及排名\n",
    "print(\"变量名称    重要性得分    排名\")\n",
    "for i, row in importance_df.iterrows():\n",
    "    print(row['变量名称'], \"    \", row['重要性得分'], \"    \", i+1)\n"
   ]
  },
  {
   "cell_type": "code",
   "execution_count": null,
   "id": "47acdf07",
   "metadata": {},
   "outputs": [],
   "source": []
  }
 ],
 "metadata": {
  "kernelspec": {
   "display_name": "Python 3 (ipykernel)",
   "language": "python",
   "name": "python3"
  },
  "language_info": {
   "codemirror_mode": {
    "name": "ipython",
    "version": 3
   },
   "file_extension": ".py",
   "mimetype": "text/x-python",
   "name": "python",
   "nbconvert_exporter": "python",
   "pygments_lexer": "ipython3",
   "version": "3.10.9"
  }
 },
 "nbformat": 4,
 "nbformat_minor": 5
}
