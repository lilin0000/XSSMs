{
 "cells": [
  {
   "cell_type": "markdown",
   "id": "d5a7b1af",
   "metadata": {},
   "source": [
    "# smap转csv"
   ]
  },
  {
   "cell_type": "code",
   "execution_count": 1,
   "id": "9d4a659d",
   "metadata": {},
   "outputs": [],
   "source": [
    "import rasterio\n",
    "import numpy as np\n",
    "import pandas as pd\n",
    "\n",
    "# 定义栅格数据路径00\n",
    "file_path = r\"D:\\Users\\lily\\Desktop\\Sample data\\9km.tif\\smap_9k.tif\"\n",
    "\n",
    "# 读取栅格数据\n",
    "with rasterio.open(file_path) as src:\n",
    "    # 读取数据和元数据\n",
    "    data = src.read(1)\n",
    "    meta = src.meta.copy()\n",
    "\n",
    "    # 获取栅格的宽和高\n",
    "    width = src.width\n",
    "    height = src.height\n",
    "\n",
    "    # 获取栅格的坐标系和分辨率\n",
    "    crs = src.crs.to_string()\n",
    "    transform = src.transform\n",
    "\n",
    "# 创建一组网格索引\n",
    "x, y = np.meshgrid(np.arange(0, width), np.arange(0, height))\n",
    "\n",
    "# 转换网格索引为经纬度坐标\n",
    "lon, lat = transform * (x, y)\n",
    "\n",
    "# 将经纬度、像元值转换为表格\n",
    "df = pd.DataFrame({\n",
    "    \"longitude\": lon.flatten(),\n",
    "    \"latitude\": lat.flatten(),\n",
    "    \"smap_9k\": data.flatten()\n",
    "})\n",
    "\n",
    "# 将结果保存到 CSV 文件\n",
    "#output_file = \"D:/Users/lily/Desktop/smap_9k.csv\"\n",
    "#df.to_csv(output_file, index=False)"
   ]
  },
  {
   "cell_type": "markdown",
   "id": "347e909e",
   "metadata": {},
   "source": [
    "# 行列相同变量转csv(所有变量）"
   ]
  },
  {
   "cell_type": "code",
   "execution_count": 2,
   "id": "2f4f58db",
   "metadata": {},
   "outputs": [],
   "source": [
    "import os\n",
    "import numpy as np\n",
    "from osgeo import gdal\n",
    "import pandas as pd\n",
    "\n",
    "# 文件夹路径\n",
    "folder_path = r\"D:\\Users\\lily\\Desktop\\Sample data\\9km.tif\"\n",
    "\n",
    "# 读取文件夹内所有栅格数据\n",
    "raster_files = [f for f in os.listdir(folder_path) if f.endswith('.tif')]\n",
    "\n",
    "# 创建一个空的 DataFrame\n",
    "df2 = pd.DataFrame()\n",
    "\n",
    "# 遍历栅格图像并转换为 CSV\n",
    "for raster_file in raster_files:\n",
    "    raster_path = os.path.join(folder_path, raster_file)\n",
    "    raster_dataset = gdal.Open(raster_path)\n",
    "    raster_band = raster_dataset.GetRasterBand(1)\n",
    "    raster_array = raster_band.ReadAsArray()\n",
    "\n",
    "    # 将栅格数组展平为一维\n",
    "    raster_array = raster_array.flatten()\n",
    "\n",
    "    # 创建一个以文件名为列名的 Series，并将其添加到 DataFrame\n",
    "    column_name = os.path.splitext(raster_file)[0]\n",
    "    df2[column_name] = raster_array\n",
    "\n",
    "    \n",
    "# 删除smap_9k列\n",
    "column_to_remove = 'smap_9k'\n",
    "df2 = df2.drop(column_to_remove, axis=1)\n",
    "\n",
    "# 保存 DataFrame 为 CSV 文件\n",
    "#output_csv_path = r\"C:\\Users\\23547\\Desktop\\variables.csv\"\n",
    "#df2.to_csv(output_csv_path, index=False)\n"
   ]
  },
  {
   "cell_type": "markdown",
   "id": "7afcf78b",
   "metadata": {},
   "source": [
    "# 合并数据框"
   ]
  },
  {
   "cell_type": "code",
   "execution_count": 3,
   "id": "de6cc019",
   "metadata": {},
   "outputs": [],
   "source": [
    "dfs = [df,df2]\n",
    "merged_dfs = pd.concat(dfs, axis=1)\n",
    "merged_dfs\n",
    "\n",
    "# 保存 DataFrame 为 CSV 文件\n",
    "output_csv_path = r\"D:\\Users\\lily\\Desktop\\Sample data\\Variable Sorting\\variables_9k.csv\"\n",
    "merged_dfs.to_csv(output_csv_path, index=False)"
   ]
  },
  {
   "cell_type": "code",
   "execution_count": 4,
   "id": "0568242e",
   "metadata": {
    "scrolled": false
   },
   "outputs": [],
   "source": [
    "# 读取 CSV 文件\n",
    "input_csv_path = r\"D:\\Users\\lily\\Desktop\\Sample data\\Variable Sorting\\variables_9k.csv\"\n",
    "merged = pd.read_csv(input_csv_path)\n",
    "\n",
    "# 删除所有-3.400000e+38所在的行\n",
    "merged = merged[merged != -3.4028235E+38].dropna()\n",
    "merged = merged[merged != -3.4E+38].dropna()\n",
    "# 选择要删除的行\n",
    "#mask = merged['lst_40-70'] <= 0\n",
    "\n",
    "# 筛选出大于 0.6 的行\n",
    "#merged = merged[~mask]\n",
    "merged\n",
    "# 保存 DataFrame 为 CSV 文件\n",
    "output_csv_path = r\"D:\\Users\\lily\\Desktop\\Sample data\\Variable Sorting\\merged_9k.csv\"\n",
    "merged.to_csv(output_csv_path, index=False)"
   ]
  },
  {
   "cell_type": "markdown",
   "id": "ba2defda",
   "metadata": {},
   "source": [
    "# ele转csv"
   ]
  },
  {
   "cell_type": "code",
   "execution_count": 5,
   "id": "e2a63c4b",
   "metadata": {},
   "outputs": [],
   "source": [
    "import rasterio\n",
    "import numpy as np\n",
    "import pandas as pd\n",
    "\n",
    "# 定义栅格数据路径\n",
    "file_path = r\"D:\\Users\\lily\\Desktop\\Sample data\\1km.tif\\ele_1k.tif\"\n",
    "# 读取栅格数据\n",
    "with rasterio.open(file_path) as src:\n",
    "    # 读取数据和元数据\n",
    "    data = src.read(1)\n",
    "    meta = src.meta.copy()\n",
    "\n",
    "    # 获取栅格的宽和高\n",
    "    width = src.width\n",
    "    height = src.height\n",
    "\n",
    "    # 获取栅格的坐标系和分辨率\n",
    "    crs = src.crs.to_string()\n",
    "    transform = src.transform\n",
    "\n",
    "# 创建一组网格索引\n",
    "x, y = np.meshgrid(np.arange(0, width), np.arange(0, height))\n",
    "\n",
    "# 转换网格索引为经纬度坐标\n",
    "lon, lat = transform * (x, y)\n",
    "\n",
    "# 将经纬度、像元值转换为表格\n",
    "df3 = pd.DataFrame({\n",
    "    \"longitude\": lon.flatten(),\n",
    "    \"latitude\": lat.flatten()\n",
    "})\n",
    "\n",
    "# 将结果保存到 CSV 文件\n",
    "#output_file = \"C:/Users/23547/Desktop/xy_1k.csv\"\n",
    "#df.to_csv(output_file, index=False)"
   ]
  },
  {
   "cell_type": "markdown",
   "id": "022f6a59",
   "metadata": {},
   "source": [
    "# 新变量转csv(所有变量)"
   ]
  },
  {
   "cell_type": "code",
   "execution_count": 6,
   "id": "70b4db19",
   "metadata": {},
   "outputs": [],
   "source": [
    "import os\n",
    "import numpy as np\n",
    "from osgeo import gdal\n",
    "import pandas as pd\n",
    "\n",
    "# 文件夹路径\n",
    "folder_path = r\"D:\\Users\\lily\\Desktop\\Sample data\\1km.tif\"\n",
    "\n",
    "# 读取文件夹内所有栅格数据\n",
    "raster_files = [f for f in os.listdir(folder_path) if f.endswith('.tif')]\n",
    "\n",
    "# 创建一个空的 DataFrame\n",
    "df4 = pd.DataFrame()\n",
    "\n",
    "# 遍历栅格图像并转换为 CSV\n",
    "for raster_file in raster_files:\n",
    "    raster_path = os.path.join(folder_path, raster_file)\n",
    "    raster_dataset = gdal.Open(raster_path)\n",
    "    raster_band = raster_dataset.GetRasterBand(1)\n",
    "    raster_array = raster_band.ReadAsArray()\n",
    "\n",
    "    # 将栅格数组展平为一维\n",
    "    raster_array = raster_array.flatten()\n",
    "\n",
    "    # 创建一个以文件名为列名的 Series，并将其添加到 DataFrame\n",
    "    column_name = os.path.splitext(raster_file)[0]\n",
    "    df4[column_name] = raster_array\n",
    "\n",
    "# 保存 DataFrame 为 CSV 文件\n",
    "#output_csv_path = r\"C:\\Users\\23547\\Desktop\\variables_1k.csv\"\n",
    "#df4.to_csv(output_csv_path, index=False)\n"
   ]
  },
  {
   "cell_type": "code",
   "execution_count": 7,
   "id": "5ec4e0a0",
   "metadata": {},
   "outputs": [],
   "source": [
    "dfs2 = [df3,df4]\n",
    "merged_dfs2 = pd.concat(dfs2, axis=1)\n",
    "\n",
    "# 保存 DataFrame 为 CSV 文件\n",
    "output_csv_path = r\"D:\\Users\\lily\\Desktop\\Sample data\\Variable Sorting\\variables_1k.csv\"\n",
    "merged_dfs2.to_csv(output_csv_path, index=False)"
   ]
  },
  {
   "cell_type": "code",
   "execution_count": 8,
   "id": "96486d94",
   "metadata": {},
   "outputs": [],
   "source": [
    "# 读取 CSV 文件\n",
    "input_csv_path = r\"D:\\Users\\lily\\Desktop\\Sample data\\Variable Sorting\\variables_1k.csv\"\n",
    "merged2 = pd.read_csv(input_csv_path)\n",
    "\n",
    "# 删除所有-3.400000e+38所在的行\n",
    "merged2 = merged2[merged2 != -3.4E+38].dropna()\n",
    "\n",
    "# 选择要删除的行\n",
    "#mask = merged2['lst_40-70'] <= 0\n",
    "\n",
    "# 筛选出大于 0.6 的行\n",
    "#merged2 = merged2[~mask]\n",
    "\n",
    "# 保存 DataFrame 为 CSV 文件\n",
    "output_csv_path = r\"D:\\Users\\lily\\Desktop\\Sample data\\Variable Sorting\\merged_1k.csv\"\n",
    "merged2.to_csv(output_csv_path, index=False)"
   ]
  },
  {
   "cell_type": "code",
   "execution_count": null,
   "id": "d3f3366b",
   "metadata": {},
   "outputs": [],
   "source": []
  }
 ],
 "metadata": {
  "kernelspec": {
   "display_name": "Python 3 (ipykernel)",
   "language": "python",
   "name": "python3"
  },
  "language_info": {
   "codemirror_mode": {
    "name": "ipython",
    "version": 3
   },
   "file_extension": ".py",
   "mimetype": "text/x-python",
   "name": "python",
   "nbconvert_exporter": "python",
   "pygments_lexer": "ipython3",
   "version": "3.10.9"
  }
 },
 "nbformat": 4,
 "nbformat_minor": 5
}
